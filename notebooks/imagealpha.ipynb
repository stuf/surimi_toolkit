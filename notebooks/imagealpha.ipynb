{
 "cells": [
  {
   "cell_type": "code",
   "execution_count": null,
   "metadata": {},
   "outputs": [],
   "source": [
    "%pip install pillow matplotlib numpy"
   ]
  },
  {
   "cell_type": "code",
   "execution_count": 1,
   "metadata": {},
   "outputs": [],
   "source": [
    "IN_DIR = r'W:\\Blender\\work\\__RESOURCES\\@Splatoon2\\__OBJECTS\\Obj_Helicopter_Octa.Nin_NX_NVN\\output'"
   ]
  },
  {
   "cell_type": "code",
   "execution_count": 2,
   "metadata": {},
   "outputs": [
    {
     "name": "stdout",
     "output_type": "stream",
     "text": [
      "ELDsp_Alb.png\n",
      " - No transparency in image\n",
      "ExteriorBodyB_Alb.png\n",
      " - No transparency in image\n",
      "ExteriorBodyC_Alb.png\n",
      " - Saving opacity texture: ExteriorBodyC_Opa.png\n",
      "ExteriorBodyD_Alb.png\n",
      " - No transparency in image\n",
      "ExteriorBody_Alb.png\n",
      " - No transparency in image\n",
      "ExteriorParts_Alb.png\n",
      " - No transparency in image\n",
      "InsideWall_Alb.png\n",
      " - No transparency in image\n",
      "MetalFramePillar_Alb.png\n",
      " - No transparency in image\n",
      "obj_Speakers01_Alb.png\n",
      " - No transparency in image\n",
      "Obj_VenueGuiterBass_Alb.png\n",
      " - No transparency in image\n",
      "StageObj2_Alb.png\n",
      " - No transparency in image\n",
      "StageObj_Alb.png\n",
      " - No transparency in image\n"
     ]
    }
   ],
   "source": [
    "from PIL import Image\n",
    "from pathlib import Path\n",
    "\n",
    "files = Path(IN_DIR).rglob('*.png')\n",
    "\n",
    "file_list = [f for f in files if f.stem.endswith('Alb')]\n",
    "\n",
    "for f in file_list:\n",
    "    image = Image.open(f)\n",
    "    fp = Path(f)\n",
    "    opa_tex = fp.stem.replace('Alb', 'Opa')\n",
    "    print(fp.relative_to(IN_DIR))\n",
    "    \n",
    "    fpp = list(fp.parts)\n",
    "    fpp[-1] = f'{opa_tex}{fp.suffix}'\n",
    "    fp2 = Path(*fpp)\n",
    "\n",
    "    alpha = image.getchannel('A')\n",
    "\n",
    "    pix_min, pix_max = alpha.getextrema()\n",
    "    if pix_min == 255:\n",
    "        print(' - No transparency in image')\n",
    "        continue\n",
    "\n",
    "    # The image has transparency, so we'll make a separate Opa texture\n",
    "    bg = Image.new('RGBA', image.size, (0, 0, 0, 255))\n",
    "    bg.paste(alpha, mask=alpha)\n",
    "    bg.convert('L')\n",
    "\n",
    "    print(f' - Saving opacity texture: {fp2.relative_to(IN_DIR)}')\n",
    "    bg.save(str(fp2))\n"
   ]
  }
 ],
 "metadata": {
  "kernelspec": {
   "display_name": "Python 3",
   "language": "python",
   "name": "python3"
  },
  "language_info": {
   "codemirror_mode": {
    "name": "ipython",
    "version": 3
   },
   "file_extension": ".py",
   "mimetype": "text/x-python",
   "name": "python",
   "nbconvert_exporter": "python",
   "pygments_lexer": "ipython3",
   "version": "3.11.2"
  }
 },
 "nbformat": 4,
 "nbformat_minor": 2
}
