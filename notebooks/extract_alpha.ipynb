{
 "cells": [
  {
   "cell_type": "code",
   "execution_count": null,
   "metadata": {},
   "outputs": [],
   "source": [
    "%pip install pillow matplotlib numpy"
   ]
  },
  {
   "cell_type": "code",
   "execution_count": 1,
   "metadata": {},
   "outputs": [],
   "source": [
    "IN_DIR = r'W:\\assets\\Decals\\Stickers'"
   ]
  },
  {
   "cell_type": "code",
   "execution_count": 9,
   "metadata": {},
   "outputs": [
    {
     "name": "stdout",
     "output_type": "stream",
     "text": [
      " - exists? True\n",
      "   skipping\n",
      " - exists? True\n",
      "   skipping\n",
      " - exists? True\n",
      "   skipping\n",
      " - exists? True\n",
      "   skipping\n",
      " - exists? True\n",
      "   skipping\n",
      " - exists? True\n",
      "   skipping\n",
      " - exists? True\n",
      "   skipping\n",
      " - exists? True\n",
      "   skipping\n",
      " - exists? True\n",
      "   skipping\n",
      " - exists? True\n",
      "   skipping\n",
      " - Saving opacity texture: sillies_Opa.png\n",
      " - exists? True\n",
      "   skipping\n",
      " - exists? True\n",
      "   skipping\n",
      " - exists? True\n",
      "   skipping\n",
      " - exists? True\n",
      "   skipping\n"
     ]
    },
    {
     "ename": "",
     "evalue": "",
     "output_type": "error",
     "traceback": [
      "\u001b[1;31mThe Kernel crashed while executing code in the current cell or a previous cell. \n",
      "\u001b[1;31mPlease review the code in the cell(s) to identify a possible cause of the failure. \n",
      "\u001b[1;31mClick <a href='https://aka.ms/vscodeJupyterKernelCrash'>here</a> for more info. \n",
      "\u001b[1;31mView Jupyter <a href='command:jupyter.viewOutput'>log</a> for further details."
     ]
    }
   ],
   "source": [
    "from PIL import Image\n",
    "from pathlib import Path\n",
    "\n",
    "SUFFIX = 'Opa'\n",
    "\n",
    "files = Path(IN_DIR).rglob('*.png')\n",
    "\n",
    "file_list = [f for f in files if not f.stem.endswith(SUFFIX)]\n",
    "\n",
    "for f in file_list:\n",
    "    im = Image.open(f)\n",
    "    fp = Path(f)\n",
    "    opa_tex = '_'.join([fp.stem, SUFFIX])\n",
    "\n",
    "    fpp = list(fp.parts)\n",
    "    fpp[-1] = f'{opa_tex}{fp.suffix}'\n",
    "    fp2 = Path(*fpp)\n",
    "\n",
    "    if fp2.exists():\n",
    "        print(f' - exists? {fp2.exists()}')\n",
    "        print(f'   skipping')\n",
    "        continue\n",
    "\n",
    "    alpha = im.getchannel('A')\n",
    "\n",
    "    pix_min, pix_max = alpha.getextrema()\n",
    "\n",
    "    if pix_min == 255:\n",
    "        print(' - No transparency in image')\n",
    "        continue\n",
    "\n",
    "    bg = Image.new('RGBA', im.size, (0, 0, 0, 255))\n",
    "    bg.paste(alpha, mask=alpha)\n",
    "    bg.convert('L')\n",
    "\n",
    "    print(f' - Saving opacity texture: {fp2.relative_to(IN_DIR)}')\n",
    "    bg.save(str(fp2))\n"
   ]
  }
 ],
 "metadata": {
  "kernelspec": {
   "display_name": "Python 3",
   "language": "python",
   "name": "python3"
  },
  "language_info": {
   "codemirror_mode": {
    "name": "ipython",
    "version": 3
   },
   "file_extension": ".py",
   "mimetype": "text/x-python",
   "name": "python",
   "nbconvert_exporter": "python",
   "pygments_lexer": "ipython3",
   "version": "3.11.2"
  }
 },
 "nbformat": 4,
 "nbformat_minor": 2
}
