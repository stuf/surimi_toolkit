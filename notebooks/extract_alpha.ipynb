{
 "cells": [
  {
   "cell_type": "code",
   "execution_count": null,
   "metadata": {},
   "outputs": [],
   "source": [
    "%pip install pillow matplotlib numpy"
   ]
  },
  {
   "cell_type": "markdown",
   "metadata": {},
   "source": [
    "First off, we need to define the directory where we'll look for stickers in"
   ]
  },
  {
   "cell_type": "code",
   "execution_count": 1,
   "metadata": {},
   "outputs": [],
   "source": [
    "IN_DIR = r'W:\\assets\\Decals\\Stickers'"
   ]
  },
  {
   "cell_type": "code",
   "execution_count": 2,
   "metadata": {},
   "outputs": [
    {
     "name": "stdout",
     "output_type": "stream",
     "text": [
      " - exists? True\n",
      "   skipping\n",
      " - exists? True\n",
      "   skipping\n",
      " - exists? True\n",
      "   skipping\n",
      " - exists? True\n",
      "   skipping\n",
      " - exists? True\n",
      "   skipping\n",
      " - exists? True\n",
      "   skipping\n",
      " - exists? True\n",
      "   skipping\n",
      " - exists? True\n",
      "   skipping\n",
      " - exists? True\n",
      "   skipping\n",
      " - exists? True\n",
      "   skipping\n",
      " - exists? True\n",
      "   skipping\n",
      " - exists? True\n",
      "   skipping\n",
      " - exists? True\n",
      "   skipping\n",
      " - exists? True\n",
      "   skipping\n",
      " - exists? True\n",
      "   skipping\n"
     ]
    }
   ],
   "source": [
    "from PIL import Image\n",
    "from pathlib import Path\n",
    "\n",
    "SUFFIX = 'Opa'\n",
    "\n",
    "files = Path(IN_DIR).rglob('*.png')\n",
    "\n",
    "file_list = [f for f in files if not f.stem.endswith(SUFFIX)]\n",
    "\n",
    "for f in file_list:\n",
    "    im = Image.open(f)\n",
    "    fp = Path(f)\n",
    "    opa_tex = '_'.join([fp.stem, SUFFIX])\n",
    "\n",
    "    fpp = list(fp.parts)\n",
    "    fpp[-1] = f'{opa_tex}{fp.suffix}'\n",
    "    fp2 = Path(*fpp)\n",
    "\n",
    "    if fp2.exists():\n",
    "        print(f' - exists? {fp2.exists()}')\n",
    "        print(f'   skipping')\n",
    "        continue\n",
    "\n",
    "    alpha = im.getchannel('A')\n",
    "\n",
    "    pix_min, pix_max = alpha.getextrema()\n",
    "\n",
    "    if pix_min == 255:\n",
    "        print(' - No transparency in image')\n",
    "        continue\n",
    "\n",
    "    bg = Image.new('RGBA', im.size, (0, 0, 0, 255))\n",
    "    bg.paste(alpha, mask=alpha)\n",
    "    bg.convert('L')\n",
    "\n",
    "    print(f' - Saving opacity texture: {fp2.relative_to(IN_DIR)}')\n",
    "    bg.save(str(fp2))\n"
   ]
  }
 ],
 "metadata": {
  "kernelspec": {
   "display_name": "Python 3",
   "language": "python",
   "name": "python3"
  },
  "language_info": {
   "codemirror_mode": {
    "name": "ipython",
    "version": 3
   },
   "file_extension": ".py",
   "mimetype": "text/x-python",
   "name": "python",
   "nbconvert_exporter": "python",
   "pygments_lexer": "ipython3",
   "version": "3.11.2"
  }
 },
 "nbformat": 4,
 "nbformat_minor": 2
}
